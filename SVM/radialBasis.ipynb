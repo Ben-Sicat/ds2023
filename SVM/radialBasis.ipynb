{
 "cells": [
  {
   "cell_type": "markdown",
   "metadata": {},
   "source": [
    "**Radial Basis Function**"
   ]
  },
  {
   "cell_type": "markdown",
   "metadata": {},
   "source": [
    "*why?* \n",
    "\n",
    "- Non-linearly separable data\n",
    "- Non-linear decision boundary\n",
    "- Non-linear features\n",
    "- Non-linear kernels\n",
    "- can handle weird shit\n",
    "\n",
    "*how?*\n",
    "-when dealing with something that is a naturally 2d data, since kernels project data to higher dimmensional space. The RBF takes this idea to the extreme; it considers the infinite interactions between data\n",
    "\n"
   ]
  }
 ],
 "metadata": {
  "language_info": {
   "name": "python"
  },
  "orig_nbformat": 4
 },
 "nbformat": 4,
 "nbformat_minor": 2
}
