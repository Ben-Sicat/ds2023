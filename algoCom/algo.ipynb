{
 "cells": [
  {
   "cell_type": "markdown",
   "metadata": {},
   "source": [
    "**ALGO STUFF**"
   ]
  },
  {
   "cell_type": "markdown",
   "metadata": {},
   "source": [
    "**Sorting Algorithms**"
   ]
  },
  {
   "cell_type": "markdown",
   "metadata": {},
   "source": [
    "*Insertion Sort*\n",
    "\n",
    "improved on the code given by sir Lex\n",
    "\n",
    "instead of using 2 forloops and 1 if statement, I used 1 forloop and 1 while loop with the same if statement to make the code more efficient"
   ]
  },
  {
   "cell_type": "code",
   "execution_count": null,
   "metadata": {},
   "outputs": [],
   "source": [
    "def insertionSort(arr):\n",
    "    for i in range(1, len(arr)):\n",
    "        key = arr[i]\n",
    "        j = i-1\n",
    "        while j >= 0 and key < arr[j]:\n",
    "            arr[j+1] = arr[j]\n",
    "            j -= 1\n",
    "        arr[j+1] = key"
   ]
  },
  {
   "cell_type": "markdown",
   "metadata": {},
   "source": [
    "*simulation*\n",
    "\n",
    "arr = [ 5, 2, 4, 6, 1, 3 ]\n",
    "\n",
    "step 1: [ 2, 5, 4, 6, 1, 3 ]\n",
    "step 2: [ 2, 4, 5, 6, 1, 3 ]\n",
    "step 3: [ 2, 4, 5, 6, 1, 3 ]\n",
    "step 4: [ 2, 4, 5, 6, 1, 3 ]\n",
    "step 5: [ 1, 2, 4, 5, 6, 3 ]\n",
    "step 6: [ 1, 2, 3, 4, 5, 6 ]\n"
   ]
  },
  {
   "cell_type": "markdown",
   "metadata": {},
   "source": [
    "*Selection Sort*"
   ]
  },
  {
   "cell_type": "code",
   "execution_count": null,
   "metadata": {},
   "outputs": [],
   "source": [
    "def selectionSort(arr):\n",
    "    for i in range(len(arr)):\n",
    "        min_idx = i\n",
    "        for j in range(i+1, len(arr)):\n",
    "            if arr[min_idx] > arr[j]:\n",
    "                min_idx = j\n",
    "        arr[i], arr[min_idx] = arr[min_idx], arr[i]"
   ]
  },
  {
   "cell_type": "markdown",
   "metadata": {},
   "source": [
    "*Quick Sort*\n",
    "\n",
    "quicksort is tackled with recursion, but can be improved with the use of a stack.\n",
    "the stack is used to store the left and right index of the array, and the pivot is the middle index of the array\n",
    "![image.png](https://www.google.com/url?sa=i&url=https%3A%2F%2Fwww.studytonight.com%2Fpython-programs%2Fpython-program-for-quicksort&psig=AOvVaw39k73E1y_ySqdJA3qGnuCj&ust=1693114763928000&source=images&cd=vfe&opi=89978449&ved=0CBAQjRxqFwoTCMiP65PO-YADFQAAAAAdAAAAABAp)"
   ]
  },
  {
   "cell_type": "code",
   "execution_count": null,
   "metadata": {},
   "outputs": [],
   "source": [
    "def partition (arr, low, high):\n",
    "    i = (low - 1)\n",
    "    pivot = arr[high]\n",
    "    for j in range(low, high):\n",
    "        if arr[j] <= pivot:\n",
    "            i = i+1\n",
    "            arr[i], arr[j] = arr[j], arr[i]\n",
    "    arr[i+1], arr[high] = arr[high], arr[i+1] \n",
    "    return (i+1)\n",
    "\n",
    "def quickSort(arr, low, high):\n",
    "    if len(arr) == 1:\n",
    "        return arr\n",
    "    if low < high:\n",
    "        #pi = pivot index\n",
    "        pi = partition(arr, low, high)\n",
    "        quickSort(arr, low, pi-1)\n",
    "        quickSort(arr, pi+1, high)"
   ]
  },
  {
   "cell_type": "markdown",
   "metadata": {},
   "source": [
    "**Searching Algorithms**"
   ]
  },
  {
   "cell_type": "markdown",
   "metadata": {},
   "source": [
    "**Binary Search**\n"
   ]
  },
  {
   "cell_type": "code",
   "execution_count": null,
   "metadata": {},
   "outputs": [],
   "source": [
    "def binarySearch(arr, l, r, x):\n",
    "    if r >= l:\n",
    "        mid = l + (r - l) // 2\n",
    "        if arr[mid] == x:\n",
    "            return mid\n",
    "        elif arr[mid] > x:\n",
    "            return binarySearch(arr, l, mid-1, x)\n",
    "        else:\n",
    "            return binarySearch(arr, mid+1, r, x)\n",
    "    else:\n",
    "        return -1"
   ]
  }
 ],
 "metadata": {
  "language_info": {
   "name": "python"
  },
  "orig_nbformat": 4
 },
 "nbformat": 4,
 "nbformat_minor": 2
}
